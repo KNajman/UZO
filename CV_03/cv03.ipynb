{
 "cells": [
  {
   "cell_type": "code",
   "execution_count": 1,
   "metadata": {},
   "outputs": [
    {
     "data": {
      "text/plain": [
       "-1"
      ]
     },
     "execution_count": 1,
     "metadata": {},
     "output_type": "execute_result"
    }
   ],
   "source": [
    "import cv2\n",
    "import numpy as np\n",
    "import math\n",
    "\n",
    "def naive_image_rotate(image, degree):\n",
    "    '''\n",
    "    This function rotates the image around its center by amount of degrees\n",
    "    provided.\n",
    "    '''\n",
    "    \n",
    "    height = image.shape[0]\n",
    "    width  = image.shape[1]\n",
    "\n",
    "    old_mid_x,old_mid_y = (width//2, height//2)\n",
    "    \n",
    "    rads = math.radians(degree)\n",
    "\n",
    "    new_width = int(width*math.cos(rads)+height*math.sin(rads))\n",
    "    new_height = int(width*math.sin(rads)+height*math.cos(rads))\n",
    "\n",
    "    # calculate the new center of the image\n",
    "    midx,midy = (new_width//2, new_height//2)\n",
    "\n",
    "    rot_img = np.uint8(np.zeros([new_height,new_width,3]))\n",
    "    for i in range(rot_img.shape[0]):\n",
    "        for j in range(rot_img.shape[1]):\n",
    "            x= (i-midx)*math.cos(rads)+(j-midy)*math.sin(rads)\n",
    "            y= -(i-midx)*math.sin(rads)+(j-midy)*math.cos(rads)\n",
    "\n",
    "            x=round(x)+old_mid_x\n",
    "            y=round(y)+old_mid_y\n",
    "\n",
    "            if (x>=0 and y>=0 and x<image.shape[0] and  y<image.shape[1]):\n",
    "                rot_img[i,j,:] = image[x,y,:]\n",
    "\n",
    "    return rot_img\n",
    "\n",
    "image = cv2.imread(\"cv03_robot.bmp\")\n",
    "\n",
    "rotated_image = naive_image_rotate(image,45)\n",
    "\n",
    "#cv2.imshow(\"original image\", image)\n",
    "cv2.imshow(\"rotated image\",rotated_image)\n",
    "cv2.waitKey(0)"
   ]
  }
 ],
 "metadata": {
  "kernelspec": {
   "display_name": "Python 3",
   "language": "python",
   "name": "python3"
  },
  "language_info": {
   "codemirror_mode": {
    "name": "ipython",
    "version": 3
   },
   "file_extension": ".py",
   "mimetype": "text/x-python",
   "name": "python",
   "nbconvert_exporter": "python",
   "pygments_lexer": "ipython3",
   "version": "3.10.10"
  },
  "orig_nbformat": 4
 },
 "nbformat": 4,
 "nbformat_minor": 2
}
