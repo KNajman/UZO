{
 "cells": [
  {
   "cell_type": "code",
   "execution_count": 73,
   "metadata": {},
   "outputs": [],
   "source": [
    "import numpy as np\n",
    "import cv2\n",
    "\n",
    "def rotateImage(image, angle):\n",
    "    \"\"\"\n",
    "    Rotate image by angle around center without cropping\n",
    "    \"\"\"\n",
    "    # Get image size and center\n",
    "    h, w = image.shape[:2]\n",
    "    cx = w // 2\n",
    "    cy = h // 2\n",
    " \n",
    "    # Define rotation matrix\n",
    "    M = cv2.getRotationMatrix2D((cx, cy), angle, 1)\n",
    "\n",
    "    # Compute sine and cosine of angle\n",
    "    cos_theta = np.abs(M[0, 0])\n",
    "    sin_theta = np.abs(M[0, 1])\n",
    "\n",
    "    # Compute new image dimensions to fit rotated image\n",
    "    new_w = int((h * sin_theta) + (w * cos_theta))\n",
    "    new_h = int((h * cos_theta) + (w * sin_theta))\n",
    "    \n",
    "     # Adjust rotation matrix for translation\n",
    "    M[0, 2] += (new_w - w) // 2 - cx\n",
    "    M[1, 2] += (new_h - h) // 2 - cy\n",
    "    \n",
    "    # Rotate image using affine transformation\n",
    "    rotated_image = np.zeros((new_h, new_w, 3), dtype=np.uint8)\n",
    "\n",
    "    for y in range(new_h):\n",
    "        for x in range(new_w):\n",
    "            point = np.array([x, y, 1])\n",
    "            rotated_point = M @ point\n",
    "            rotated_x, rotated_y = rotated_point[:2]\n",
    "            if rotated_x >= 0 and rotated_x < w and rotated_y >= 0 and rotated_y < h:\n",
    "                rotated_image[y, x] = image[int(rotated_y), int(rotated_x)]\n",
    "\n",
    "    return rotated_image\n",
    "\n",
    "\n",
    "# main function\n",
    "if __name__ == '__main__':\n",
    "    # read image\n",
    "    robot = cv2.imread('cv03_robot.bmp')\n",
    "    # rotate image\n",
    "    rotated = rotateImage(robot, 45)\n",
    "    # show image\n",
    "    cv2.imshow('Rotated Image', rotated)\n",
    "    # wait for key press\n",
    "    cv2.waitKey(0)\n"
   ]
  }
 ],
 "metadata": {
  "kernelspec": {
   "display_name": "Python 3",
   "language": "python",
   "name": "python3"
  },
  "language_info": {
   "codemirror_mode": {
    "name": "ipython",
    "version": 3
   },
   "file_extension": ".py",
   "mimetype": "text/x-python",
   "name": "python",
   "nbconvert_exporter": "python",
   "pygments_lexer": "ipython3",
   "version": "3.10.10"
  },
  "orig_nbformat": 4
 },
 "nbformat": 4,
 "nbformat_minor": 2
}
