{
 "cells": [
  {
   "cell_type": "code",
   "execution_count": 74,
   "metadata": {},
   "outputs": [
    {
     "ename": "NameError",
     "evalue": "name 'gg' is not defined",
     "output_type": "error",
     "traceback": [
      "\u001b[1;31m---------------------------------------------------------------------------\u001b[0m",
      "\u001b[1;31mNameError\u001b[0m                                 Traceback (most recent call last)",
      "Cell \u001b[1;32mIn[74], line 34\u001b[0m\n\u001b[0;32m     29\u001b[0m                 img [i,j] \u001b[39m=\u001b[39m gg[i,j]\n\u001b[0;32m     31\u001b[0m     plt\u001b[39m.\u001b[39mimshow(img)\n\u001b[1;32m---> 34\u001b[0m image_color_segmentation(cv07_coins,\u001b[39m100\u001b[39;49m)\n",
      "Cell \u001b[1;32mIn[74], line 29\u001b[0m, in \u001b[0;36mimage_color_segmentation\u001b[1;34m(img, threshold)\u001b[0m\n\u001b[0;32m     27\u001b[0m             img[i,j] \u001b[39m=\u001b[39m [\u001b[39m0\u001b[39m,\u001b[39m0\u001b[39m,\u001b[39m0\u001b[39m]\n\u001b[0;32m     28\u001b[0m         \u001b[39melse\u001b[39;00m:\n\u001b[1;32m---> 29\u001b[0m             img [i,j] \u001b[39m=\u001b[39m gg[i,j]\n\u001b[0;32m     31\u001b[0m plt\u001b[39m.\u001b[39mimshow(img)\n",
      "\u001b[1;31mNameError\u001b[0m: name 'gg' is not defined"
     ]
    }
   ],
   "source": [
    "import numpy as np\n",
    "import matplotlib.pyplot as plt\n",
    "import cv2\n",
    "\n",
    "class ColorSpace():\n",
    "    pixel_value = 0\n",
    "    color_value = 0\n",
    "\n",
    "def region_coloring(img):\n",
    "    \"\"\"\n",
    "    region identification and coloring\n",
    "\n",
    "    \"\"\"\n",
    "    img = cv2.cvtColor(img, cv2.COLOR_BGR2GRAY)\n",
    "    tmp_img = \n",
    "    mask = []\n",
    "    for i in range(img.shape[0]):\n",
    "        for j in range(img.shape[1]):\n",
    "            if i > 0 and j > 0 and i < img.shape[0]-1 and j < img.shape[1]-1:\n",
    "                mask.append(img[i-1,j-1])\n",
    "                mask.append(img[i-1, j])\n",
    "                mask.append(img[i-1, j+1])\n",
    "                mask.append(img[i, j-1])\n",
    "                mask.append(img[i, j])\n",
    "                \n",
    "            if img[i,j] == 255:\n",
    "                for m in mask:\n",
    "                    if m == 0:\n",
    "                        tmp_img[i,j] = 255\n",
    "                        break\n",
    "                    else:\n",
    "                        tmp_img[i,j] = 0\n",
    "                \n",
    "                \n",
    "                \n",
    "    \n",
    "\n",
    "cv07_coins = cv2.imread('cv07_segmentace.bmp')\n",
    "\n",
    "def image_color_segmentation(img, threshold):\n",
    "    \"\"\"\n",
    "    param img: input image\n",
    "    \n",
    "    \"\"\"\n",
    "    # extract the color channels\n",
    "    img = img.astype(np.float32)\n",
    "    R, G, B = img[:,:,0], img[:,:,1], img[:,:,2]\n",
    "    background = ((G*255)/(R+G+B)) \n",
    "    \n",
    "    for i in range(img.shape[0]):\n",
    "        for j in range(img.shape[1]):\n",
    "            if background[i,j] >= threshold:\n",
    "                img[i,j] = [0,0,0]\n",
    "                \n",
    "    plt.imshow(img)\n",
    "\n",
    "\n",
    "image_color_segmentation(cv07_coins,100)"
   ]
  }
 ],
 "metadata": {
  "kernelspec": {
   "display_name": "Python 3",
   "language": "python",
   "name": "python3"
  },
  "language_info": {
   "codemirror_mode": {
    "name": "ipython",
    "version": 3
   },
   "file_extension": ".py",
   "mimetype": "text/x-python",
   "name": "python",
   "nbconvert_exporter": "python",
   "pygments_lexer": "ipython3",
   "version": "3.11.3"
  },
  "orig_nbformat": 4
 },
 "nbformat": 4,
 "nbformat_minor": 2
}
