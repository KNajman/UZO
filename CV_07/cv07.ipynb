{
 "cells": [
  {
   "cell_type": "code",
   "execution_count": 115,
   "metadata": {},
   "outputs": [],
   "source": [
    "import numpy as np\n",
    "import matplotlib.pyplot as plt\n",
    "import cv2"
   ]
  },
  {
   "cell_type": "code",
   "execution_count": 125,
   "metadata": {},
   "outputs": [],
   "source": [
    "\n",
    "class ColorSpace():\n",
    "    def __init__(self):\n",
    "        self.pixel_value = 0\n",
    "        self.color_value = 0\n",
    "\n",
    "def region_coloring(img):\n",
    "    gray_img = cv2.cvtColor(img, cv2.COLOR_BGR2GRAY)\n",
    "    #tmp_img = np.zeros_like(gray_img, dtype=ColorSpace)\n",
    "    tmp_img = [[ColorSpace() for i in range(img.shape[1])] for j in range(img.shape[0])]\n",
    "    tmp_img = np.array(tmp_img)\n",
    "    \n",
    "    for i in range(tmp_img.shape[0]):\n",
    "        for j in range(tmp_img.shape[1]):\n",
    "            if gray_img[i,j] != 0:\n",
    "                tmp_img[i,j].pixel_value = 1\n",
    "                tmp_img[i,j].color_value = 0\n",
    "                \n",
    "    uniqe_color_iterator = 1\n",
    "    iter = 0\n",
    "    while True:\n",
    "        flag_changed_color = False\n",
    "        for i in range(img.shape[0]):\n",
    "            for j in range(img.shape[1]):\n",
    "                if i > 0 and j > 0 and i < img.shape[0]-1 and j < img.shape[1]-1:\n",
    "                    if tmp_img[i,j].pixel_value == 1:\n",
    "                        mask = np.array([tmp_img[i-1,j-1], tmp_img[i-1, j], tmp_img[i-1, j+1], tmp_img[i, j-1], tmp_img[i, j+1], tmp_img[i+1, j-1], tmp_img[i+1, j], tmp_img[i+1, j+1]])\n",
    "                    \n",
    "                        #get non black pixels from mask\n",
    "                        color = [x.color_value for x in mask if x.pixel_value == 1 and x.color_value != 0]\n",
    "                    \n",
    "                        #if there is no non black pixel in mask\n",
    "                        if len(color) == 0 and tmp_img[i,j].pixel_value == 1:\n",
    "                            tmp_img[i,j].color_value = uniqe_color_iterator\n",
    "                            uniqe_color_iterator += 1\n",
    "                            flag_changed_color = True\n",
    "                        elif tmp_img[i,j].pixel_value == 1 and min(color) != tmp_img[i,j].color_value:\n",
    "                            tmp_img[i,j].color_value = min(color)\n",
    "                            flag_changed_color = True\n",
    "        iter += 1   \n",
    "        if flag_changed_color == False or iter > 20:\n",
    "            print(\"iter: \", iter)\n",
    "            break\n",
    "        \n",
    "        \n",
    "        \n",
    "    final_img = np.zeros_like(gray_img, dtype=np.uint8)\n",
    "\n",
    "    for i in range(img.shape[0]):\n",
    "        for j in range(img.shape[1]):\n",
    "            if tmp_img[i,j].pixel_value == 1:\n",
    "                color = tmp_img[i,j].color_value\n",
    "                final_img[i,j] = color\n",
    "    print(np.unique(final_img))\n",
    "    return final_img\n",
    "        \n",
    "\n",
    "def image_color_segmentation(img, threshold):\n",
    "    # extract the color channels\n",
    "    img = img.astype(np.float32)\n",
    "    R, G, B = img[:,:,0], img[:,:,1], img[:,:,2]\n",
    "    background = ((G*255)/(R+G+B)) \n",
    "    \n",
    "    for i in range(img.shape[0]):\n",
    "        for j in range(img.shape[1]):\n",
    "            if background[i,j] >= threshold:\n",
    "                img[i,j] = [0,0,0]\n",
    "                \n",
    "    return img.astype(np.uint8)\n",
    "\n",
    "\n"
   ]
  },
  {
   "cell_type": "code",
   "execution_count": 126,
   "metadata": {},
   "outputs": [
    {
     "name": "stdout",
     "output_type": "stream",
     "text": [
      "iter:  9\n",
      "[ 0  1  7 18 24 30]\n"
     ]
    },
    {
     "data": {
      "text/plain": [
       "<matplotlib.image.AxesImage at 0x1ff7d17be80>"
      ]
     },
     "execution_count": 126,
     "metadata": {},
     "output_type": "execute_result"
    },
    {
     "data": {
      "image/png": "[encoded data removed]",
      "text/plain": [
       "<Figure size 640x480 with 1 Axes>"
      ]
     },
     "metadata": {},
     "output_type": "display_data"
    }
   ],
   "source": [
    "cv07_coins = cv2.imread('cv07_segmentace.bmp')\n",
    "img = image_color_segmentation(cv07_coins,105)\n",
    "#plt.imshow(img)\n",
    "color_image = region_coloring(img)\n",
    "plt.imshow(color_image, cmap='jet')"
   ]
  },
  {
   "cell_type": "code",
   "execution_count": 118,
   "metadata": {},
   "outputs": [
    {
     "name": "stdout",
     "output_type": "stream",
     "text": [
      "Center of mass for region 0: (183.92, 154.00)\n",
      "Center of mass for region 1: (276.41, 74.47)\n",
      "Center of mass for region 7: (77.57, 76.56)\n",
      "Center of mass for region 18: (198.36, 168.32)\n",
      "Center of mass for region 24: (72.26, 206.27)\n",
      "Center of mass for region 30: (302.43, 251.69)\n"
     ]
    },
    {
     "data": {
      "text/plain": [
       "<matplotlib.collections.PathCollection at 0x1ff79816ad0>"
      ]
     },
     "execution_count": 118,
     "metadata": {},
     "output_type": "execute_result"
    },
    {
     "data": {
      "image/png": "[encoded data removed]",
      "text/plain": [
       "<Figure size 640x480 with 1 Axes>"
      ]
     },
     "metadata": {},
     "output_type": "display_data"
    }
   ],
   "source": [
    "# calculate center of mass for each region\n",
    "centers = []\n",
    "for i in np.unique(color_image):\n",
    "    mask = (color_image == i)\n",
    "    y, x = np.where(mask)\n",
    "    print('Center of mass for region {}: ({:.2f}, {:.2f})'.format(i, np.mean(x), np.mean(y)))\n",
    "    if i != 0:\n",
    "        centers.append((np.mean(x), np.mean(y)))\n",
    "    \n",
    "# plot the center of mass\n",
    "plt.imshow(color_image, cmap='jet')\n",
    "plt.scatter([x for x, y in centers], [y for x, y in centers], c='r', s=10)"
   ]
  },
  {
   "cell_type": "code",
   "execution_count": 119,
   "metadata": {},
   "outputs": [
    {
     "name": "stdout",
     "output_type": "stream",
     "text": [
      "Center of mass for region 1: (276.41, 74.47)\n",
      "Pixel count for region 1: 4386, coin value: 5\n",
      "Center of mass for region 7: (77.57, 76.56)\n",
      "Pixel count for region 7: 3298, coin value: 1\n",
      "Center of mass for region 18: (198.36, 168.32)\n",
      "Pixel count for region 18: 3621, coin value: 1\n",
      "Center of mass for region 24: (72.26, 206.27)\n",
      "Pixel count for region 24: 4782, coin value: 5\n",
      "Center of mass for region 30: (302.43, 251.69)\n",
      "Pixel count for region 30: 3678, coin value: 1\n",
      "==================================================\n",
      "Total value of coins: 13\n"
     ]
    }
   ],
   "source": [
    "# calculate pixel count for each region and set value for each region 5 crowns is 4000 pixels\n",
    "\n",
    "coins_value = []\n",
    "for j,region_num in enumerate(np.unique(color_image)):\n",
    "    if region_num != 0:\n",
    "        mask = (color_image == region_num)\n",
    "        pixel_count = np.sum(mask)\n",
    "        print('Center of mass for region {}: ({:.2f}, {:.2f})'.format(region_num, centers[j-1][0], centers[j-1][1]))\n",
    "        if pixel_count >= 4000:\n",
    "            coins_value.append(5)\n",
    "        else:\n",
    "            coins_value.append(1)\n",
    "        print('Pixel count for region {}: {}, coin value: {}'.format(region_num, pixel_count, coins_value[j-1]))\n",
    "\n",
    "print('='*50)        \n",
    "print('Total value of coins: {}'.format(np.sum(coins_value)))"
   ]
  }
 ],
 "metadata": {
  "kernelspec": {
   "display_name": "Python 3",
   "language": "python",
   "name": "python3"
  },
  "language_info": {
   "codemirror_mode": {
    "name": "ipython",
    "version": 3
   },
   "file_extension": ".py",
   "mimetype": "text/x-python",
   "name": "python",
   "nbconvert_exporter": "python",
   "pygments_lexer": "ipython3",
   "version": "3.10.11"
  },
  "orig_nbformat": 4
 },
 "nbformat": 4,
 "nbformat_minor": 2
}
