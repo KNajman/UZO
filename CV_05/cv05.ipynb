{
 "cells": [
  {
   "cell_type": "code",
   "execution_count": null,
   "metadata": {},
   "outputs": [],
   "source": [
    "import numpy as np\n",
    "import cv2\n",
    "\n",
    "def apply_simple_average_filter(image, kernel_size):\n",
    "    \"\"\"\n",
    "    Metoda prostého průměrování na obrazu.\n",
    "\n",
    "    :param image: vstupní obraz\n",
    "    :param kernel_size: velikost jádra filtru\n",
    "    :return: obraz s aplikovaným filtrem\n",
    "    \"\"\"\n",
    "    # Kontrola velikosti jádra filtru\n",
    "    if kernel_size % 2 == 0:\n",
    "        raise ValueError(\"Velikost jádra filtru musí být liché číslo.\")\n",
    "\n",
    "    # Inicializace výstupního obrazu\n",
    "    filtered_image = np.zeros_like(image)\n",
    "\n",
    "    # Vypočítá\n",
    "    \n",
    "def rotate_mask_method():\n",
    "    \"\"\"\n",
    "    Metoda rotace jádra filtru.\n",
    "    \n",
    "    \"\"\"\n",
    "    \n",
    "def median_filter():\n",
    "    \"\"\"\n",
    "    Medianový filtr.\n",
    "    \n",
    "    \"\"\""
   ]
  },
  {
   "cell_type": "code",
   "execution_count": null,
   "metadata": {},
   "outputs": [],
   "source": []
  },
  {
   "cell_type": "code",
   "execution_count": null,
   "metadata": {},
   "outputs": [],
   "source": []
  }
 ],
 "metadata": {
  "language_info": {
   "name": "python"
  },
  "orig_nbformat": 4
 },
 "nbformat": 4,
 "nbformat_minor": 2
}
